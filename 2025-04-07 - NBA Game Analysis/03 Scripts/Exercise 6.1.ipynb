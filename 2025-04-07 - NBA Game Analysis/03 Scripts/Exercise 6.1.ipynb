{
 "cells": [
  {
   "cell_type": "markdown",
   "id": "18140a98-2880-4b43-a7a4-a3133ae8e603",
   "metadata": {},
   "source": [
    "# 01. Importing Libraries"
   ]
  },
  {
   "cell_type": "code",
   "execution_count": 1,
   "id": "4a3ea1d5-3795-470b-ae4a-85dd87978295",
   "metadata": {},
   "outputs": [],
   "source": [
    "# importing libraries\n",
    "import pandas as pd\n",
    "import numpy as np\n",
    "import os"
   ]
  },
  {
   "cell_type": "markdown",
   "id": "3b317e7a-1457-44b0-96f5-8383d3268820",
   "metadata": {},
   "source": [
    "# 02. Importing Data"
   ]
  },
  {
   "cell_type": "code",
   "execution_count": 2,
   "id": "5ed4a642-83cb-473a-ba88-86dcac4d60a0",
   "metadata": {},
   "outputs": [],
   "source": [
    "# path shortcut\n",
    "path = r'C:\\Users\\georg\\Documents\\2025-04-07 - NBA Game Analysis\\Data'"
   ]
  },
  {
   "cell_type": "code",
   "execution_count": 3,
   "id": "6fc5fb23-38aa-4e34-9c2b-43151438169c",
   "metadata": {},
   "outputs": [],
   "source": [
    "# importing games data\n",
    "df_games = pd.read_csv(os.path.join(path, 'games.csv'), index_col = False)"
   ]
  },
  {
   "cell_type": "code",
   "execution_count": 6,
   "id": "19763c0f-a004-4b68-8cf1-d8b4e733a9f1",
   "metadata": {},
   "outputs": [],
   "source": [
    "# importing teams data\n",
    "df_teams = pd.read_csv(os.path.join(path, 'teams.csv'), index_col = False)"
   ]
  },
  {
   "cell_type": "markdown",
   "id": "f8f7e5d8-736a-4d87-8690-b098d061f710",
   "metadata": {},
   "source": [
    "# 03. Data Cleaning & Consitency Checks"
   ]
  },
  {
   "cell_type": "code",
   "execution_count": 11,
   "id": "aa4d3298-ebda-45b4-8403-1930da7cc90d",
   "metadata": {},
   "outputs": [
    {
     "data": {
      "text/plain": [
       "(26651, 21)"
      ]
     },
     "execution_count": 11,
     "metadata": {},
     "output_type": "execute_result"
    }
   ],
   "source": [
    "df_games.shape"
   ]
  },
  {
   "cell_type": "code",
   "execution_count": 12,
   "id": "cc7f2b3c-da96-40ce-b06c-d1e0ead7cab5",
   "metadata": {},
   "outputs": [
    {
     "data": {
      "text/plain": [
       "(30, 14)"
      ]
     },
     "execution_count": 12,
     "metadata": {},
     "output_type": "execute_result"
    }
   ],
   "source": [
    "df_teams.shape"
   ]
  },
  {
   "cell_type": "code",
   "execution_count": 17,
   "id": "c4625606-4445-47d0-9418-816d500c2d60",
   "metadata": {},
   "outputs": [
    {
     "data": {
      "text/html": [
       "<div>\n",
       "<style scoped>\n",
       "    .dataframe tbody tr th:only-of-type {\n",
       "        vertical-align: middle;\n",
       "    }\n",
       "\n",
       "    .dataframe tbody tr th {\n",
       "        vertical-align: top;\n",
       "    }\n",
       "\n",
       "    .dataframe thead th {\n",
       "        text-align: right;\n",
       "    }\n",
       "</style>\n",
       "<table border=\"1\" class=\"dataframe\">\n",
       "  <thead>\n",
       "    <tr style=\"text-align: right;\">\n",
       "      <th></th>\n",
       "      <th>GAME_ID</th>\n",
       "      <th>HOME_TEAM_ID</th>\n",
       "      <th>VISITOR_TEAM_ID</th>\n",
       "      <th>SEASON</th>\n",
       "      <th>TEAM_ID_home</th>\n",
       "      <th>PTS_home</th>\n",
       "      <th>FG_PCT_home</th>\n",
       "      <th>FT_PCT_home</th>\n",
       "      <th>FG3_PCT_home</th>\n",
       "      <th>AST_home</th>\n",
       "      <th>REB_home</th>\n",
       "      <th>TEAM_ID_away</th>\n",
       "      <th>PTS_away</th>\n",
       "      <th>FG_PCT_away</th>\n",
       "      <th>FT_PCT_away</th>\n",
       "      <th>FG3_PCT_away</th>\n",
       "      <th>AST_away</th>\n",
       "      <th>REB_away</th>\n",
       "      <th>HOME_TEAM_WINS</th>\n",
       "    </tr>\n",
       "  </thead>\n",
       "  <tbody>\n",
       "    <tr>\n",
       "      <th>count</th>\n",
       "      <td>2.665100e+04</td>\n",
       "      <td>2.665100e+04</td>\n",
       "      <td>2.665100e+04</td>\n",
       "      <td>26651.000000</td>\n",
       "      <td>2.665100e+04</td>\n",
       "      <td>26552.000000</td>\n",
       "      <td>26552.000000</td>\n",
       "      <td>26552.000000</td>\n",
       "      <td>26552.000000</td>\n",
       "      <td>26552.000000</td>\n",
       "      <td>26552.000000</td>\n",
       "      <td>2.665100e+04</td>\n",
       "      <td>26552.000000</td>\n",
       "      <td>26552.000000</td>\n",
       "      <td>26552.000000</td>\n",
       "      <td>26552.000000</td>\n",
       "      <td>26552.000000</td>\n",
       "      <td>26552.000000</td>\n",
       "      <td>26651.000000</td>\n",
       "    </tr>\n",
       "    <tr>\n",
       "      <th>mean</th>\n",
       "      <td>2.175487e+07</td>\n",
       "      <td>1.610613e+09</td>\n",
       "      <td>1.610613e+09</td>\n",
       "      <td>2012.113879</td>\n",
       "      <td>1.610613e+09</td>\n",
       "      <td>103.455898</td>\n",
       "      <td>0.460735</td>\n",
       "      <td>0.760377</td>\n",
       "      <td>0.356023</td>\n",
       "      <td>22.823441</td>\n",
       "      <td>43.374284</td>\n",
       "      <td>1.610613e+09</td>\n",
       "      <td>100.639876</td>\n",
       "      <td>0.449732</td>\n",
       "      <td>0.758816</td>\n",
       "      <td>0.349489</td>\n",
       "      <td>21.496271</td>\n",
       "      <td>42.113249</td>\n",
       "      <td>0.587032</td>\n",
       "    </tr>\n",
       "    <tr>\n",
       "      <th>std</th>\n",
       "      <td>5.570189e+06</td>\n",
       "      <td>8.638670e+00</td>\n",
       "      <td>8.659299e+00</td>\n",
       "      <td>5.587031</td>\n",
       "      <td>8.638670e+00</td>\n",
       "      <td>13.283370</td>\n",
       "      <td>0.056676</td>\n",
       "      <td>0.100677</td>\n",
       "      <td>0.111164</td>\n",
       "      <td>5.193308</td>\n",
       "      <td>6.625769</td>\n",
       "      <td>8.659299e+00</td>\n",
       "      <td>13.435868</td>\n",
       "      <td>0.055551</td>\n",
       "      <td>0.103429</td>\n",
       "      <td>0.109441</td>\n",
       "      <td>5.160596</td>\n",
       "      <td>6.533039</td>\n",
       "      <td>0.492376</td>\n",
       "    </tr>\n",
       "    <tr>\n",
       "      <th>min</th>\n",
       "      <td>1.030000e+07</td>\n",
       "      <td>1.610613e+09</td>\n",
       "      <td>1.610613e+09</td>\n",
       "      <td>2003.000000</td>\n",
       "      <td>1.610613e+09</td>\n",
       "      <td>36.000000</td>\n",
       "      <td>0.250000</td>\n",
       "      <td>0.143000</td>\n",
       "      <td>0.000000</td>\n",
       "      <td>6.000000</td>\n",
       "      <td>15.000000</td>\n",
       "      <td>1.610613e+09</td>\n",
       "      <td>33.000000</td>\n",
       "      <td>0.244000</td>\n",
       "      <td>0.143000</td>\n",
       "      <td>0.000000</td>\n",
       "      <td>4.000000</td>\n",
       "      <td>19.000000</td>\n",
       "      <td>0.000000</td>\n",
       "    </tr>\n",
       "    <tr>\n",
       "      <th>25%</th>\n",
       "      <td>2.070001e+07</td>\n",
       "      <td>1.610613e+09</td>\n",
       "      <td>1.610613e+09</td>\n",
       "      <td>2007.000000</td>\n",
       "      <td>1.610613e+09</td>\n",
       "      <td>94.000000</td>\n",
       "      <td>0.422000</td>\n",
       "      <td>0.697000</td>\n",
       "      <td>0.286000</td>\n",
       "      <td>19.000000</td>\n",
       "      <td>39.000000</td>\n",
       "      <td>1.610613e+09</td>\n",
       "      <td>91.000000</td>\n",
       "      <td>0.412000</td>\n",
       "      <td>0.692000</td>\n",
       "      <td>0.278000</td>\n",
       "      <td>18.000000</td>\n",
       "      <td>38.000000</td>\n",
       "      <td>0.000000</td>\n",
       "    </tr>\n",
       "    <tr>\n",
       "      <th>50%</th>\n",
       "      <td>2.120076e+07</td>\n",
       "      <td>1.610613e+09</td>\n",
       "      <td>1.610613e+09</td>\n",
       "      <td>2012.000000</td>\n",
       "      <td>1.610613e+09</td>\n",
       "      <td>103.000000</td>\n",
       "      <td>0.460000</td>\n",
       "      <td>0.765000</td>\n",
       "      <td>0.357000</td>\n",
       "      <td>23.000000</td>\n",
       "      <td>43.000000</td>\n",
       "      <td>1.610613e+09</td>\n",
       "      <td>100.000000</td>\n",
       "      <td>0.449000</td>\n",
       "      <td>0.765000</td>\n",
       "      <td>0.350000</td>\n",
       "      <td>21.000000</td>\n",
       "      <td>42.000000</td>\n",
       "      <td>1.000000</td>\n",
       "    </tr>\n",
       "    <tr>\n",
       "      <th>75%</th>\n",
       "      <td>2.180005e+07</td>\n",
       "      <td>1.610613e+09</td>\n",
       "      <td>1.610613e+09</td>\n",
       "      <td>2017.000000</td>\n",
       "      <td>1.610613e+09</td>\n",
       "      <td>112.000000</td>\n",
       "      <td>0.500000</td>\n",
       "      <td>0.833000</td>\n",
       "      <td>0.429000</td>\n",
       "      <td>26.000000</td>\n",
       "      <td>48.000000</td>\n",
       "      <td>1.610613e+09</td>\n",
       "      <td>110.000000</td>\n",
       "      <td>0.487000</td>\n",
       "      <td>0.833000</td>\n",
       "      <td>0.419000</td>\n",
       "      <td>25.000000</td>\n",
       "      <td>46.000000</td>\n",
       "      <td>1.000000</td>\n",
       "    </tr>\n",
       "    <tr>\n",
       "      <th>max</th>\n",
       "      <td>5.210021e+07</td>\n",
       "      <td>1.610613e+09</td>\n",
       "      <td>1.610613e+09</td>\n",
       "      <td>2022.000000</td>\n",
       "      <td>1.610613e+09</td>\n",
       "      <td>168.000000</td>\n",
       "      <td>0.684000</td>\n",
       "      <td>1.000000</td>\n",
       "      <td>1.000000</td>\n",
       "      <td>50.000000</td>\n",
       "      <td>72.000000</td>\n",
       "      <td>1.610613e+09</td>\n",
       "      <td>168.000000</td>\n",
       "      <td>0.687000</td>\n",
       "      <td>1.000000</td>\n",
       "      <td>1.000000</td>\n",
       "      <td>46.000000</td>\n",
       "      <td>81.000000</td>\n",
       "      <td>1.000000</td>\n",
       "    </tr>\n",
       "  </tbody>\n",
       "</table>\n",
       "</div>"
      ],
      "text/plain": [
       "            GAME_ID  HOME_TEAM_ID  VISITOR_TEAM_ID        SEASON  \\\n",
       "count  2.665100e+04  2.665100e+04     2.665100e+04  26651.000000   \n",
       "mean   2.175487e+07  1.610613e+09     1.610613e+09   2012.113879   \n",
       "std    5.570189e+06  8.638670e+00     8.659299e+00      5.587031   \n",
       "min    1.030000e+07  1.610613e+09     1.610613e+09   2003.000000   \n",
       "25%    2.070001e+07  1.610613e+09     1.610613e+09   2007.000000   \n",
       "50%    2.120076e+07  1.610613e+09     1.610613e+09   2012.000000   \n",
       "75%    2.180005e+07  1.610613e+09     1.610613e+09   2017.000000   \n",
       "max    5.210021e+07  1.610613e+09     1.610613e+09   2022.000000   \n",
       "\n",
       "       TEAM_ID_home      PTS_home   FG_PCT_home   FT_PCT_home  FG3_PCT_home  \\\n",
       "count  2.665100e+04  26552.000000  26552.000000  26552.000000  26552.000000   \n",
       "mean   1.610613e+09    103.455898      0.460735      0.760377      0.356023   \n",
       "std    8.638670e+00     13.283370      0.056676      0.100677      0.111164   \n",
       "min    1.610613e+09     36.000000      0.250000      0.143000      0.000000   \n",
       "25%    1.610613e+09     94.000000      0.422000      0.697000      0.286000   \n",
       "50%    1.610613e+09    103.000000      0.460000      0.765000      0.357000   \n",
       "75%    1.610613e+09    112.000000      0.500000      0.833000      0.429000   \n",
       "max    1.610613e+09    168.000000      0.684000      1.000000      1.000000   \n",
       "\n",
       "           AST_home      REB_home  TEAM_ID_away      PTS_away   FG_PCT_away  \\\n",
       "count  26552.000000  26552.000000  2.665100e+04  26552.000000  26552.000000   \n",
       "mean      22.823441     43.374284  1.610613e+09    100.639876      0.449732   \n",
       "std        5.193308      6.625769  8.659299e+00     13.435868      0.055551   \n",
       "min        6.000000     15.000000  1.610613e+09     33.000000      0.244000   \n",
       "25%       19.000000     39.000000  1.610613e+09     91.000000      0.412000   \n",
       "50%       23.000000     43.000000  1.610613e+09    100.000000      0.449000   \n",
       "75%       26.000000     48.000000  1.610613e+09    110.000000      0.487000   \n",
       "max       50.000000     72.000000  1.610613e+09    168.000000      0.687000   \n",
       "\n",
       "        FT_PCT_away  FG3_PCT_away      AST_away      REB_away  HOME_TEAM_WINS  \n",
       "count  26552.000000  26552.000000  26552.000000  26552.000000    26651.000000  \n",
       "mean       0.758816      0.349489     21.496271     42.113249        0.587032  \n",
       "std        0.103429      0.109441      5.160596      6.533039        0.492376  \n",
       "min        0.143000      0.000000      4.000000     19.000000        0.000000  \n",
       "25%        0.692000      0.278000     18.000000     38.000000        0.000000  \n",
       "50%        0.765000      0.350000     21.000000     42.000000        1.000000  \n",
       "75%        0.833000      0.419000     25.000000     46.000000        1.000000  \n",
       "max        1.000000      1.000000     46.000000     81.000000        1.000000  "
      ]
     },
     "execution_count": 17,
     "metadata": {},
     "output_type": "execute_result"
    }
   ],
   "source": [
    "df_games.describe()"
   ]
  },
  {
   "cell_type": "code",
   "execution_count": 20,
   "id": "44960db3-4f57-46f9-a34c-7f0c3b086d8e",
   "metadata": {},
   "outputs": [
    {
     "name": "stdout",
     "output_type": "stream",
     "text": [
      "PTS_home        99\n",
      "FG_PCT_home     99\n",
      "FT_PCT_home     99\n",
      "FG3_PCT_home    99\n",
      "AST_home        99\n",
      "REB_home        99\n",
      "PTS_away        99\n",
      "FG_PCT_away     99\n",
      "FT_PCT_away     99\n",
      "FG3_PCT_away    99\n",
      "AST_away        99\n",
      "REB_away        99\n",
      "dtype: int64\n"
     ]
    }
   ],
   "source": [
    "# looking for missing values in Games dataset\n",
    "missing_values_games = df_games.isnull().sum()\n",
    "missing_columns_games = missing_values_games[missing_values_games > 0]\n",
    "\n",
    "print (missing_columns_games)"
   ]
  },
  {
   "cell_type": "code",
   "execution_count": 21,
   "id": "9218a737-eabb-40b8-a8e6-ab5fd879af2e",
   "metadata": {},
   "outputs": [],
   "source": [
    "df_games_cleaned = df_games.dropna()"
   ]
  },
  {
   "cell_type": "code",
   "execution_count": 23,
   "id": "22fd60d7-ea3f-4fe4-95ec-d410ee3abbe1",
   "metadata": {},
   "outputs": [
    {
     "name": "stdout",
     "output_type": "stream",
     "text": [
      "Series([], dtype: int64)\n"
     ]
    }
   ],
   "source": [
    "# checking to see if we still have missing data\n",
    "missing_values_games_test = df_games_cleaned.isnull().sum()\n",
    "missing_columns_games_test = missing_values_games_test[missing_values_games_test > 0]\n",
    "\n",
    "print (missing_columns_games_test)"
   ]
  },
  {
   "cell_type": "code",
   "execution_count": 24,
   "id": "21b7b934-67b0-4690-ae64-8be0d25ce07f",
   "metadata": {},
   "outputs": [
    {
     "name": "stdout",
     "output_type": "stream",
     "text": [
      "ARENACAPACITY    4\n",
      "dtype: int64\n"
     ]
    }
   ],
   "source": [
    "# looking for missing values in Teams dataset\n",
    "missing_values_teams = df_teams.isnull().sum()\n",
    "missing_columns_teams = missing_values_teams[missing_values_teams > 0]\n",
    "\n",
    "print (missing_columns_teams)"
   ]
  },
  {
   "cell_type": "markdown",
   "id": "64e271b6-2b28-481a-8ec4-f6071abe9766",
   "metadata": {},
   "source": [
    "### not going to delete missing rows, arena capacity isnt important in this analysis."
   ]
  },
  {
   "cell_type": "code",
   "execution_count": 28,
   "id": "aaafdfc2-e953-4c49-af35-e282dceea569",
   "metadata": {},
   "outputs": [],
   "source": [
    "# checking for duplicates in games data\n",
    "df_games_cleaned_dups = df_games_cleaned[df_games_cleaned.duplicated()]"
   ]
  },
  {
   "cell_type": "code",
   "execution_count": 29,
   "id": "176299e3-262e-424f-a0da-f53fab45395d",
   "metadata": {},
   "outputs": [
    {
     "data": {
      "text/html": [
       "<div>\n",
       "<style scoped>\n",
       "    .dataframe tbody tr th:only-of-type {\n",
       "        vertical-align: middle;\n",
       "    }\n",
       "\n",
       "    .dataframe tbody tr th {\n",
       "        vertical-align: top;\n",
       "    }\n",
       "\n",
       "    .dataframe thead th {\n",
       "        text-align: right;\n",
       "    }\n",
       "</style>\n",
       "<table border=\"1\" class=\"dataframe\">\n",
       "  <thead>\n",
       "    <tr style=\"text-align: right;\">\n",
       "      <th></th>\n",
       "      <th>GAME_DATE_EST</th>\n",
       "      <th>GAME_ID</th>\n",
       "      <th>GAME_STATUS_TEXT</th>\n",
       "      <th>HOME_TEAM_ID</th>\n",
       "      <th>VISITOR_TEAM_ID</th>\n",
       "      <th>SEASON</th>\n",
       "      <th>TEAM_ID_home</th>\n",
       "      <th>PTS_home</th>\n",
       "      <th>FG_PCT_home</th>\n",
       "      <th>FT_PCT_home</th>\n",
       "      <th>...</th>\n",
       "      <th>AST_home</th>\n",
       "      <th>REB_home</th>\n",
       "      <th>TEAM_ID_away</th>\n",
       "      <th>PTS_away</th>\n",
       "      <th>FG_PCT_away</th>\n",
       "      <th>FT_PCT_away</th>\n",
       "      <th>FG3_PCT_away</th>\n",
       "      <th>AST_away</th>\n",
       "      <th>REB_away</th>\n",
       "      <th>HOME_TEAM_WINS</th>\n",
       "    </tr>\n",
       "  </thead>\n",
       "  <tbody>\n",
       "  </tbody>\n",
       "</table>\n",
       "<p>0 rows × 21 columns</p>\n",
       "</div>"
      ],
      "text/plain": [
       "Empty DataFrame\n",
       "Columns: [GAME_DATE_EST, GAME_ID, GAME_STATUS_TEXT, HOME_TEAM_ID, VISITOR_TEAM_ID, SEASON, TEAM_ID_home, PTS_home, FG_PCT_home, FT_PCT_home, FG3_PCT_home, AST_home, REB_home, TEAM_ID_away, PTS_away, FG_PCT_away, FT_PCT_away, FG3_PCT_away, AST_away, REB_away, HOME_TEAM_WINS]\n",
       "Index: []\n",
       "\n",
       "[0 rows x 21 columns]"
      ]
     },
     "execution_count": 29,
     "metadata": {},
     "output_type": "execute_result"
    }
   ],
   "source": [
    "df_games_cleaned_dups"
   ]
  },
  {
   "cell_type": "code",
   "execution_count": 30,
   "id": "64d4584e-913c-486b-a3e5-d99d98d941cb",
   "metadata": {},
   "outputs": [],
   "source": [
    "# checking for duplicates in teams data\n",
    "df_teams_dups = df_teams[df_teams.duplicated()]"
   ]
  },
  {
   "cell_type": "code",
   "execution_count": 31,
   "id": "e0c822db-5ed2-4c24-8d36-2bf74271d83b",
   "metadata": {},
   "outputs": [
    {
     "data": {
      "text/html": [
       "<div>\n",
       "<style scoped>\n",
       "    .dataframe tbody tr th:only-of-type {\n",
       "        vertical-align: middle;\n",
       "    }\n",
       "\n",
       "    .dataframe tbody tr th {\n",
       "        vertical-align: top;\n",
       "    }\n",
       "\n",
       "    .dataframe thead th {\n",
       "        text-align: right;\n",
       "    }\n",
       "</style>\n",
       "<table border=\"1\" class=\"dataframe\">\n",
       "  <thead>\n",
       "    <tr style=\"text-align: right;\">\n",
       "      <th></th>\n",
       "      <th>LEAGUE_ID</th>\n",
       "      <th>TEAM_ID</th>\n",
       "      <th>MIN_YEAR</th>\n",
       "      <th>MAX_YEAR</th>\n",
       "      <th>ABBREVIATION</th>\n",
       "      <th>NICKNAME</th>\n",
       "      <th>YEARFOUNDED</th>\n",
       "      <th>CITY</th>\n",
       "      <th>ARENA</th>\n",
       "      <th>ARENACAPACITY</th>\n",
       "      <th>OWNER</th>\n",
       "      <th>GENERALMANAGER</th>\n",
       "      <th>HEADCOACH</th>\n",
       "      <th>DLEAGUEAFFILIATION</th>\n",
       "    </tr>\n",
       "  </thead>\n",
       "  <tbody>\n",
       "  </tbody>\n",
       "</table>\n",
       "</div>"
      ],
      "text/plain": [
       "Empty DataFrame\n",
       "Columns: [LEAGUE_ID, TEAM_ID, MIN_YEAR, MAX_YEAR, ABBREVIATION, NICKNAME, YEARFOUNDED, CITY, ARENA, ARENACAPACITY, OWNER, GENERALMANAGER, HEADCOACH, DLEAGUEAFFILIATION]\n",
       "Index: []"
      ]
     },
     "execution_count": 31,
     "metadata": {},
     "output_type": "execute_result"
    }
   ],
   "source": [
    "df_teams_dups"
   ]
  },
  {
   "cell_type": "markdown",
   "id": "f993b6fb-771e-47d3-86a2-bd48a5ba589f",
   "metadata": {},
   "source": [
    "### No duplicates in either table"
   ]
  },
  {
   "cell_type": "markdown",
   "id": "28e5a244-c929-48ba-8221-138b4c7f1e05",
   "metadata": {},
   "source": [
    "# 04. Exporting Data"
   ]
  },
  {
   "cell_type": "code",
   "execution_count": 32,
   "id": "31df0aed-e378-42d1-9f65-1481443daf02",
   "metadata": {},
   "outputs": [],
   "source": [
    "# no changes were made to teams data - only exporting cleaned games data\n",
    "df_games_cleaned.to_csv(os.path.join(path, 'games_cleaned.csv'))"
   ]
  },
  {
   "cell_type": "code",
   "execution_count": null,
   "id": "f1040399-791f-4fdd-8daf-f87c552d313f",
   "metadata": {},
   "outputs": [],
   "source": []
  }
 ],
 "metadata": {
  "kernelspec": {
   "display_name": "Python 3 (ipykernel)",
   "language": "python",
   "name": "python3"
  },
  "language_info": {
   "codemirror_mode": {
    "name": "ipython",
    "version": 3
   },
   "file_extension": ".py",
   "mimetype": "text/x-python",
   "name": "python",
   "nbconvert_exporter": "python",
   "pygments_lexer": "ipython3",
   "version": "3.12.7"
  }
 },
 "nbformat": 4,
 "nbformat_minor": 5
}
